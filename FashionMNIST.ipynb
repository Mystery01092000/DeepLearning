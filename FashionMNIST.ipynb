{
  "nbformat": 4,
  "nbformat_minor": 0,
  "metadata": {
    "colab": {
      "name": "FashionMNIST.ipynb",
      "provenance": [],
      "authorship_tag": "ABX9TyOuw8lKokLgY0wayfeqNbbG",
      "include_colab_link": true
    },
    "kernelspec": {
      "name": "python3",
      "display_name": "Python 3"
    }
  },
  "cells": [
    {
      "cell_type": "markdown",
      "metadata": {
        "id": "view-in-github",
        "colab_type": "text"
      },
      "source": [
        "<a href=\"https://colab.research.google.com/github/Mystery01092000/DeepLearning/blob/main/FashionMNIST.ipynb\" target=\"_parent\"><img src=\"https://colab.research.google.com/assets/colab-badge.svg\" alt=\"Open In Colab\"/></a>"
      ]
    },
    {
      "cell_type": "code",
      "metadata": {
        "id": "rrmZFG2r1Lxu"
      },
      "source": [
        "import pandas as pd\n",
        "import numpy as np\n",
        "import tensorflow as tf\n"
      ],
      "execution_count": 32,
      "outputs": []
    },
    {
      "cell_type": "code",
      "metadata": {
        "id": "g55oTVaw3QcJ"
      },
      "source": [
        "fashion_mnist = tf.keras.datasets.fashion_mnist"
      ],
      "execution_count": 33,
      "outputs": []
    },
    {
      "cell_type": "code",
      "metadata": {
        "id": "poShsuY63Whx"
      },
      "source": [
        "\n",
        "(X, y), (X_test, y_test) = fashion_mnist.load_data()"
      ],
      "execution_count": 34,
      "outputs": []
    },
    {
      "cell_type": "code",
      "metadata": {
        "colab": {
          "base_uri": "https://localhost:8080/"
        },
        "id": "3O06yySG3kbA",
        "outputId": "23e1343f-36d4-43a0-a346-8b93078d5067"
      },
      "source": [
        "X.shape"
      ],
      "execution_count": 35,
      "outputs": [
        {
          "output_type": "execute_result",
          "data": {
            "text/plain": [
              "(60000, 28, 28)"
            ]
          },
          "metadata": {
            "tags": []
          },
          "execution_count": 35
        }
      ]
    },
    {
      "cell_type": "code",
      "metadata": {
        "colab": {
          "base_uri": "https://localhost:8080/"
        },
        "id": "thgNMosI3nO3",
        "outputId": "b38081e2-ce7c-4b05-f6b3-dcd6e871d2ab"
      },
      "source": [
        "X_test.shape"
      ],
      "execution_count": 36,
      "outputs": [
        {
          "output_type": "execute_result",
          "data": {
            "text/plain": [
              "(10000, 28, 28)"
            ]
          },
          "metadata": {
            "tags": []
          },
          "execution_count": 36
        }
      ]
    },
    {
      "cell_type": "code",
      "metadata": {
        "id": "bCjiisU53rum"
      },
      "source": [
        "# So we have the dataset already divided into train set and test set, \n",
        "# Dividing train set into train_set and validation_set\n",
        "\n",
        "X_train, y_train = X[:50000]/255.0, y[:50000]\n",
        "X_valid, y_valid = X[50000:]/255.0, y[50000:]"
      ],
      "execution_count": 37,
      "outputs": []
    },
    {
      "cell_type": "code",
      "metadata": {
        "id": "paXSEl8e4Ejt"
      },
      "source": [
        "class_names = [\"T-shirt/top\", \"Trouser\", \"Pullover\", \"Dress\", \"Coat\",\n",
        "                   \"Sandal\", \"Shirt\", \"Sneaker\", \"Bag\", \"Ankle boot\"]"
      ],
      "execution_count": 38,
      "outputs": []
    },
    {
      "cell_type": "code",
      "metadata": {
        "colab": {
          "base_uri": "https://localhost:8080/",
          "height": 35
        },
        "id": "-2_2_EWE46ID",
        "outputId": "aedafd15-9d5a-44e7-c095-cbd2b87b418f"
      },
      "source": [
        "class_names[y_valid[0]]"
      ],
      "execution_count": 39,
      "outputs": [
        {
          "output_type": "execute_result",
          "data": {
            "application/vnd.google.colaboratory.intrinsic+json": {
              "type": "string"
            },
            "text/plain": [
              "'Ankle boot'"
            ]
          },
          "metadata": {
            "tags": []
          },
          "execution_count": 39
        }
      ]
    },
    {
      "cell_type": "code",
      "metadata": {
        "id": "s5-Q1swd5PNj"
      },
      "source": [
        "#Creating Model\n",
        "\n",
        "model = tf.keras.Sequential()\n",
        "model.add(tf.keras.layers.Flatten(input_shape=[28,28]))\n",
        "model.add(tf.keras.layers.Dense(256, activation=\"relu\"))\n",
        "model.add(tf.keras.layers.Dense(128, activation=\"relu\"))\n",
        "model.add(tf.keras.layers.Dense(10, activation=\"softmax\"))"
      ],
      "execution_count": 40,
      "outputs": []
    },
    {
      "cell_type": "code",
      "metadata": {
        "colab": {
          "base_uri": "https://localhost:8080/"
        },
        "id": "ZnG56q0n55JE",
        "outputId": "16018506-e53e-4862-943a-6dd28a30d772"
      },
      "source": [
        "model.summary()"
      ],
      "execution_count": 41,
      "outputs": [
        {
          "output_type": "stream",
          "text": [
            "Model: \"sequential_2\"\n",
            "_________________________________________________________________\n",
            "Layer (type)                 Output Shape              Param #   \n",
            "=================================================================\n",
            "flatten_2 (Flatten)          (None, 784)               0         \n",
            "_________________________________________________________________\n",
            "dense_6 (Dense)              (None, 256)               200960    \n",
            "_________________________________________________________________\n",
            "dense_7 (Dense)              (None, 128)               32896     \n",
            "_________________________________________________________________\n",
            "dense_8 (Dense)              (None, 10)                1290      \n",
            "=================================================================\n",
            "Total params: 235,146\n",
            "Trainable params: 235,146\n",
            "Non-trainable params: 0\n",
            "_________________________________________________________________\n"
          ],
          "name": "stdout"
        }
      ]
    },
    {
      "cell_type": "code",
      "metadata": {
        "colab": {
          "base_uri": "https://localhost:8080/"
        },
        "id": "9mJ3-_o458An",
        "outputId": "579f52b7-3cb4-4912-f380-70d0511b8bcf"
      },
      "source": [
        "model.layers"
      ],
      "execution_count": 42,
      "outputs": [
        {
          "output_type": "execute_result",
          "data": {
            "text/plain": [
              "[<tensorflow.python.keras.layers.core.Flatten at 0x7f97a4556210>,\n",
              " <tensorflow.python.keras.layers.core.Dense at 0x7f97a455ecd0>,\n",
              " <tensorflow.python.keras.layers.core.Dense at 0x7f97a45b5910>,\n",
              " <tensorflow.python.keras.layers.core.Dense at 0x7f97a565ddd0>]"
            ]
          },
          "metadata": {
            "tags": []
          },
          "execution_count": 42
        }
      ]
    },
    {
      "cell_type": "code",
      "metadata": {
        "id": "4hRygaCe5_fg"
      },
      "source": [
        "model.compile(loss=\"sparse_categorical_crossentropy\", optimizer=\"sgd\",metrics=[\"accuracy\"])"
      ],
      "execution_count": 43,
      "outputs": []
    },
    {
      "cell_type": "code",
      "metadata": {
        "colab": {
          "base_uri": "https://localhost:8080/"
        },
        "id": "mUP1Hn3V6mRw",
        "outputId": "6bcca83c-8d0c-484a-ebd6-bac992f52bba"
      },
      "source": [
        "history = model.fit(X_train, y_train, epochs=30, validation_data=(X_valid, y_valid))"
      ],
      "execution_count": 44,
      "outputs": [
        {
          "output_type": "stream",
          "text": [
            "Epoch 1/30\n",
            "1563/1563 [==============================] - 5s 3ms/step - loss: 1.0065 - accuracy: 0.6838 - val_loss: 0.5286 - val_accuracy: 0.8148\n",
            "Epoch 2/30\n",
            "1563/1563 [==============================] - 5s 3ms/step - loss: 0.5061 - accuracy: 0.8259 - val_loss: 0.4815 - val_accuracy: 0.8293\n",
            "Epoch 3/30\n",
            "1563/1563 [==============================] - 4s 3ms/step - loss: 0.4586 - accuracy: 0.8404 - val_loss: 0.4577 - val_accuracy: 0.8371\n",
            "Epoch 4/30\n",
            "1563/1563 [==============================] - 4s 3ms/step - loss: 0.4303 - accuracy: 0.8507 - val_loss: 0.4722 - val_accuracy: 0.8278\n",
            "Epoch 5/30\n",
            "1563/1563 [==============================] - 4s 3ms/step - loss: 0.4057 - accuracy: 0.8595 - val_loss: 0.4380 - val_accuracy: 0.8419\n",
            "Epoch 6/30\n",
            "1563/1563 [==============================] - 4s 3ms/step - loss: 0.3916 - accuracy: 0.8633 - val_loss: 0.4037 - val_accuracy: 0.8581\n",
            "Epoch 7/30\n",
            "1563/1563 [==============================] - 4s 3ms/step - loss: 0.3756 - accuracy: 0.8677 - val_loss: 0.3832 - val_accuracy: 0.8662\n",
            "Epoch 8/30\n",
            "1563/1563 [==============================] - 4s 3ms/step - loss: 0.3617 - accuracy: 0.8731 - val_loss: 0.3763 - val_accuracy: 0.8672\n",
            "Epoch 9/30\n",
            "1563/1563 [==============================] - 4s 3ms/step - loss: 0.3509 - accuracy: 0.8764 - val_loss: 0.3850 - val_accuracy: 0.8643\n",
            "Epoch 10/30\n",
            "1563/1563 [==============================] - 4s 3ms/step - loss: 0.3427 - accuracy: 0.8792 - val_loss: 0.3609 - val_accuracy: 0.8764\n",
            "Epoch 11/30\n",
            "1563/1563 [==============================] - 4s 3ms/step - loss: 0.3268 - accuracy: 0.8833 - val_loss: 0.3581 - val_accuracy: 0.8746\n",
            "Epoch 12/30\n",
            "1563/1563 [==============================] - 4s 3ms/step - loss: 0.3249 - accuracy: 0.8853 - val_loss: 0.3477 - val_accuracy: 0.8765\n",
            "Epoch 13/30\n",
            "1563/1563 [==============================] - 4s 3ms/step - loss: 0.3189 - accuracy: 0.8869 - val_loss: 0.3620 - val_accuracy: 0.8746\n",
            "Epoch 14/30\n",
            "1563/1563 [==============================] - 4s 3ms/step - loss: 0.3113 - accuracy: 0.8883 - val_loss: 0.3674 - val_accuracy: 0.8732\n",
            "Epoch 15/30\n",
            "1563/1563 [==============================] - 4s 3ms/step - loss: 0.2975 - accuracy: 0.8939 - val_loss: 0.3485 - val_accuracy: 0.8750\n",
            "Epoch 16/30\n",
            "1563/1563 [==============================] - 4s 3ms/step - loss: 0.2953 - accuracy: 0.8932 - val_loss: 0.3394 - val_accuracy: 0.8811\n",
            "Epoch 17/30\n",
            "1563/1563 [==============================] - 5s 3ms/step - loss: 0.2910 - accuracy: 0.8961 - val_loss: 0.3551 - val_accuracy: 0.8766\n",
            "Epoch 18/30\n",
            "1563/1563 [==============================] - 4s 3ms/step - loss: 0.2853 - accuracy: 0.8983 - val_loss: 0.3332 - val_accuracy: 0.8817\n",
            "Epoch 19/30\n",
            "1563/1563 [==============================] - 4s 3ms/step - loss: 0.2803 - accuracy: 0.9000 - val_loss: 0.3342 - val_accuracy: 0.8802\n",
            "Epoch 20/30\n",
            "1563/1563 [==============================] - 4s 3ms/step - loss: 0.2743 - accuracy: 0.9001 - val_loss: 0.3350 - val_accuracy: 0.8804\n",
            "Epoch 21/30\n",
            "1563/1563 [==============================] - 4s 3ms/step - loss: 0.2697 - accuracy: 0.9032 - val_loss: 0.3224 - val_accuracy: 0.8847\n",
            "Epoch 22/30\n",
            "1563/1563 [==============================] - 4s 3ms/step - loss: 0.2640 - accuracy: 0.9042 - val_loss: 0.3418 - val_accuracy: 0.8798\n",
            "Epoch 23/30\n",
            "1563/1563 [==============================] - 4s 3ms/step - loss: 0.2594 - accuracy: 0.9076 - val_loss: 0.3238 - val_accuracy: 0.8847\n",
            "Epoch 24/30\n",
            "1563/1563 [==============================] - 4s 3ms/step - loss: 0.2581 - accuracy: 0.9080 - val_loss: 0.3269 - val_accuracy: 0.8834\n",
            "Epoch 25/30\n",
            "1563/1563 [==============================] - 4s 3ms/step - loss: 0.2533 - accuracy: 0.9092 - val_loss: 0.3120 - val_accuracy: 0.8879\n",
            "Epoch 26/30\n",
            "1563/1563 [==============================] - 5s 3ms/step - loss: 0.2472 - accuracy: 0.9125 - val_loss: 0.3154 - val_accuracy: 0.8883\n",
            "Epoch 27/30\n",
            "1563/1563 [==============================] - 5s 3ms/step - loss: 0.2385 - accuracy: 0.9152 - val_loss: 0.3220 - val_accuracy: 0.8825\n",
            "Epoch 28/30\n",
            "1563/1563 [==============================] - 5s 3ms/step - loss: 0.2313 - accuracy: 0.9184 - val_loss: 0.3568 - val_accuracy: 0.8712\n",
            "Epoch 29/30\n",
            "1563/1563 [==============================] - 5s 3ms/step - loss: 0.2334 - accuracy: 0.9164 - val_loss: 0.3479 - val_accuracy: 0.8750\n",
            "Epoch 30/30\n",
            "1563/1563 [==============================] - 5s 3ms/step - loss: 0.2335 - accuracy: 0.9162 - val_loss: 0.3368 - val_accuracy: 0.8832\n"
          ],
          "name": "stdout"
        }
      ]
    },
    {
      "cell_type": "code",
      "metadata": {
        "colab": {
          "base_uri": "https://localhost:8080/",
          "height": 552
        },
        "id": "uIZh13eC60o3",
        "outputId": "d152c4d6-4242-4bc7-a11f-cb4e6e7c0ff4"
      },
      "source": [
        "import matplotlib.pyplot as plt\n",
        "\n",
        "pd.DataFrame(history.history).plot(figsize=(8, 5))\n",
        "plt.grid(True)\n",
        "plt.gca().set_ylin(0, 1)\n",
        "plt.show()"
      ],
      "execution_count": 45,
      "outputs": [
        {
          "output_type": "error",
          "ename": "AttributeError",
          "evalue": "ignored",
          "traceback": [
            "\u001b[0;31m---------------------------------------------------------------------------\u001b[0m",
            "\u001b[0;31mAttributeError\u001b[0m                            Traceback (most recent call last)",
            "\u001b[0;32m<ipython-input-45-5d6357367d77>\u001b[0m in \u001b[0;36m<module>\u001b[0;34m()\u001b[0m\n\u001b[1;32m      3\u001b[0m \u001b[0mpd\u001b[0m\u001b[0;34m.\u001b[0m\u001b[0mDataFrame\u001b[0m\u001b[0;34m(\u001b[0m\u001b[0mhistory\u001b[0m\u001b[0;34m.\u001b[0m\u001b[0mhistory\u001b[0m\u001b[0;34m)\u001b[0m\u001b[0;34m.\u001b[0m\u001b[0mplot\u001b[0m\u001b[0;34m(\u001b[0m\u001b[0mfigsize\u001b[0m\u001b[0;34m=\u001b[0m\u001b[0;34m(\u001b[0m\u001b[0;36m8\u001b[0m\u001b[0;34m,\u001b[0m \u001b[0;36m5\u001b[0m\u001b[0;34m)\u001b[0m\u001b[0;34m)\u001b[0m\u001b[0;34m\u001b[0m\u001b[0;34m\u001b[0m\u001b[0m\n\u001b[1;32m      4\u001b[0m \u001b[0mplt\u001b[0m\u001b[0;34m.\u001b[0m\u001b[0mgrid\u001b[0m\u001b[0;34m(\u001b[0m\u001b[0;32mTrue\u001b[0m\u001b[0;34m)\u001b[0m\u001b[0;34m\u001b[0m\u001b[0;34m\u001b[0m\u001b[0m\n\u001b[0;32m----> 5\u001b[0;31m \u001b[0mplt\u001b[0m\u001b[0;34m.\u001b[0m\u001b[0mgca\u001b[0m\u001b[0;34m(\u001b[0m\u001b[0;34m)\u001b[0m\u001b[0;34m.\u001b[0m\u001b[0mset_ylin\u001b[0m\u001b[0;34m(\u001b[0m\u001b[0;36m0\u001b[0m\u001b[0;34m,\u001b[0m \u001b[0;36m1\u001b[0m\u001b[0;34m)\u001b[0m\u001b[0;34m\u001b[0m\u001b[0;34m\u001b[0m\u001b[0m\n\u001b[0m\u001b[1;32m      6\u001b[0m \u001b[0mplt\u001b[0m\u001b[0;34m.\u001b[0m\u001b[0mshow\u001b[0m\u001b[0;34m(\u001b[0m\u001b[0;34m)\u001b[0m\u001b[0;34m\u001b[0m\u001b[0;34m\u001b[0m\u001b[0m\n",
            "\u001b[0;31mAttributeError\u001b[0m: 'AxesSubplot' object has no attribute 'set_ylin'"
          ]
        },
        {
          "output_type": "display_data",
          "data": {
            "image/png": "[encoded data removed]",
            "text/plain": [
              "<Figure size 576x360 with 1 Axes>"
            ]
          },
          "metadata": {
            "tags": [],
            "needs_background": "light"
          }
        }
      ]
    },
    {
      "cell_type": "code",
      "metadata": {
        "colab": {
          "base_uri": "https://localhost:8080/"
        },
        "id": "FLrFX21i-_sK",
        "outputId": "25e52a85-57b4-492e-b88a-512cbdfa32d2"
      },
      "source": [
        "X_test.shape"
      ],
      "execution_count": 47,
      "outputs": [
        {
          "output_type": "execute_result",
          "data": {
            "text/plain": [
              "(10000, 28, 28)"
            ]
          },
          "metadata": {
            "tags": []
          },
          "execution_count": 47
        }
      ]
    },
    {
      "cell_type": "code",
      "metadata": {
        "colab": {
          "base_uri": "https://localhost:8080/"
        },
        "id": "zuSXCL0z_FPd",
        "outputId": "42aec54f-2016-4d8c-e00b-5075d95dcb92"
      },
      "source": [
        "y_test.shape"
      ],
      "execution_count": 48,
      "outputs": [
        {
          "output_type": "execute_result",
          "data": {
            "text/plain": [
              "(10000,)"
            ]
          },
          "metadata": {
            "tags": []
          },
          "execution_count": 48
        }
      ]
    },
    {
      "cell_type": "code",
      "metadata": {
        "id": "5xWG7mf0_gOo"
      },
      "source": [
        "pred = model.predict(X_test)"
      ],
      "execution_count": 50,
      "outputs": []
    },
    {
      "cell_type": "code",
      "metadata": {
        "colab": {
          "base_uri": "https://localhost:8080/"
        },
        "id": "Po4f8WCX_kQc",
        "outputId": "65dc8045-2bb6-470c-da73-f4a9b61954c4"
      },
      "source": [
        "model.evaluate(X_test, y_test)"
      ],
      "execution_count": 51,
      "outputs": [
        {
          "output_type": "stream",
          "text": [
            "313/313 [==============================] - 1s 2ms/step - loss: 82.1664 - accuracy: 0.8296\n"
          ],
          "name": "stdout"
        },
        {
          "output_type": "execute_result",
          "data": {
            "text/plain": [
              "[82.1664047241211, 0.8295999765396118]"
            ]
          },
          "metadata": {
            "tags": []
          },
          "execution_count": 51
        }
      ]
    },
    {
      "cell_type": "code",
      "metadata": {
        "id": "YEKjcyE3_skC"
      },
      "source": [
        ""
      ],
      "execution_count": null,
      "outputs": []
    }
  ]
}